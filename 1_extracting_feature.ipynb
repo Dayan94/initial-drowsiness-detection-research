{
 "cells": [
  {
   "cell_type": "code",
   "execution_count": 1,
   "metadata": {},
   "outputs": [
    {
     "name": "stdout",
     "output_type": "stream",
     "text": [
      "Collecting tensorflow\n",
      "  Downloading tensorflow-2.4.1-cp38-cp38-macosx_10_11_x86_64.whl (173.9 MB)\n",
      "\u001b[K     |████████████████████████████████| 173.9 MB 1.6 MB/s eta 0:00:01    |██████▌                         | 35.4 MB 2.9 MB/s eta 0:00:48     |█████████████▋                  | 73.7 MB 2.8 MB/s eta 0:00:36     |███████████████▉                | 85.8 MB 5.5 MB/s eta 0:00:16     |██████████████████▋             | 101.4 MB 4.6 MB/s eta 0:00:16     |███████████████████             | 103.8 MB 2.9 MB/s eta 0:00:25\n",
      "\u001b[?25hCollecting opt-einsum~=3.3.0\n",
      "  Downloading opt_einsum-3.3.0-py3-none-any.whl (65 kB)\n",
      "\u001b[K     |████████████████████████████████| 65 kB 1.6 MB/s eta 0:00:01\n",
      "\u001b[?25hCollecting termcolor~=1.1.0\n",
      "  Downloading termcolor-1.1.0.tar.gz (3.9 kB)\n",
      "Collecting tensorboard~=2.4\n",
      "  Downloading tensorboard-2.4.1-py3-none-any.whl (10.6 MB)\n",
      "\u001b[K     |████████████████████████████████| 10.6 MB 1.9 MB/s eta 0:00:01\n",
      "\u001b[?25hCollecting keras-preprocessing~=1.1.2\n",
      "  Downloading Keras_Preprocessing-1.1.2-py2.py3-none-any.whl (42 kB)\n",
      "\u001b[K     |████████████████████████████████| 42 kB 2.1 MB/s eta 0:00:01\n",
      "\u001b[?25hCollecting gast==0.3.3\n",
      "  Downloading gast-0.3.3-py2.py3-none-any.whl (9.7 kB)\n",
      "Collecting google-pasta~=0.2\n",
      "  Downloading google_pasta-0.2.0-py3-none-any.whl (57 kB)\n",
      "\u001b[K     |████████████████████████████████| 57 kB 7.1 MB/s  eta 0:00:01\n",
      "\u001b[?25hCollecting grpcio~=1.32.0\n",
      "  Downloading grpcio-1.32.0-cp38-cp38-macosx_10_9_x86_64.whl (3.3 MB)\n",
      "\u001b[K     |████████████████████████████████| 3.3 MB 5.9 MB/s eta 0:00:01\n",
      "\u001b[?25hCollecting absl-py~=0.10\n",
      "  Downloading absl_py-0.11.0-py3-none-any.whl (127 kB)\n",
      "\u001b[K     |████████████████████████████████| 127 kB 6.8 MB/s eta 0:00:01\n",
      "\u001b[?25hCollecting tensorflow-estimator<2.5.0,>=2.4.0\n",
      "  Downloading tensorflow_estimator-2.4.0-py2.py3-none-any.whl (462 kB)\n",
      "\u001b[K     |████████████████████████████████| 462 kB 8.5 MB/s eta 0:00:01\n",
      "\u001b[?25hRequirement already satisfied: typing-extensions~=3.7.4 in /Users/Dayan/anaconda3/lib/python3.8/site-packages (from tensorflow) (3.7.4.3)\n",
      "Requirement already satisfied: wheel~=0.35 in /Users/Dayan/anaconda3/lib/python3.8/site-packages (from tensorflow) (0.36.2)\n",
      "Requirement already satisfied: six~=1.15.0 in /Users/Dayan/anaconda3/lib/python3.8/site-packages (from tensorflow) (1.15.0)\n",
      "Collecting flatbuffers~=1.12.0\n",
      "  Downloading flatbuffers-1.12-py2.py3-none-any.whl (15 kB)\n",
      "Collecting astunparse~=1.6.3\n",
      "  Downloading astunparse-1.6.3-py2.py3-none-any.whl (12 kB)\n",
      "Requirement already satisfied: numpy~=1.19.2 in /Users/Dayan/anaconda3/lib/python3.8/site-packages (from tensorflow) (1.19.2)\n",
      "Requirement already satisfied: wrapt~=1.12.1 in /Users/Dayan/anaconda3/lib/python3.8/site-packages (from tensorflow) (1.12.1)\n",
      "Requirement already satisfied: h5py~=2.10.0 in /Users/Dayan/anaconda3/lib/python3.8/site-packages (from tensorflow) (2.10.0)\n",
      "Collecting protobuf>=3.9.2\n",
      "  Downloading protobuf-3.15.3-cp38-cp38-macosx_10_9_x86_64.whl (1.0 MB)\n",
      "\u001b[K     |████████████████████████████████| 1.0 MB 6.4 MB/s eta 0:00:01\n",
      "\u001b[?25hCollecting google-auth-oauthlib<0.5,>=0.4.1\n",
      "  Downloading google_auth_oauthlib-0.4.2-py2.py3-none-any.whl (18 kB)\n",
      "Collecting google-auth<2,>=1.6.3\n",
      "  Downloading google_auth-1.27.0-py2.py3-none-any.whl (135 kB)\n",
      "\u001b[K     |████████████████████████████████| 135 kB 4.7 MB/s eta 0:00:01\n",
      "\u001b[?25hRequirement already satisfied: setuptools>=41.0.0 in /Users/Dayan/anaconda3/lib/python3.8/site-packages (from tensorboard~=2.4->tensorflow) (52.0.0.post20210125)\n",
      "Requirement already satisfied: requests<3,>=2.21.0 in /Users/Dayan/anaconda3/lib/python3.8/site-packages (from tensorboard~=2.4->tensorflow) (2.25.1)\n",
      "Collecting markdown>=2.6.8\n",
      "  Downloading Markdown-3.3.4-py3-none-any.whl (97 kB)\n",
      "\u001b[K     |████████████████████████████████| 97 kB 3.9 MB/s eta 0:00:01\n",
      "\u001b[?25hRequirement already satisfied: werkzeug>=0.11.15 in /Users/Dayan/anaconda3/lib/python3.8/site-packages (from tensorboard~=2.4->tensorflow) (1.0.1)\n",
      "Collecting tensorboard-plugin-wit>=1.6.0\n",
      "  Downloading tensorboard_plugin_wit-1.8.0-py3-none-any.whl (781 kB)\n",
      "\u001b[K     |████████████████████████████████| 781 kB 6.7 MB/s eta 0:00:01\n",
      "\u001b[?25hCollecting pyasn1-modules>=0.2.1\n",
      "  Downloading pyasn1_modules-0.2.8-py2.py3-none-any.whl (155 kB)\n",
      "\u001b[K     |████████████████████████████████| 155 kB 3.7 MB/s eta 0:00:01\n",
      "\u001b[?25hCollecting rsa<5,>=3.1.4\n",
      "  Downloading rsa-4.7.2-py3-none-any.whl (34 kB)\n",
      "Collecting cachetools<5.0,>=2.0.0\n",
      "  Downloading cachetools-4.2.1-py3-none-any.whl (12 kB)\n",
      "Collecting requests-oauthlib>=0.7.0\n",
      "  Downloading requests_oauthlib-1.3.0-py2.py3-none-any.whl (23 kB)\n",
      "Collecting pyasn1<0.5.0,>=0.4.6\n",
      "  Downloading pyasn1-0.4.8-py2.py3-none-any.whl (77 kB)\n",
      "\u001b[K     |████████████████████████████████| 77 kB 7.1 MB/s  eta 0:00:01\n",
      "\u001b[?25hRequirement already satisfied: chardet<5,>=3.0.2 in /Users/Dayan/anaconda3/lib/python3.8/site-packages (from requests<3,>=2.21.0->tensorboard~=2.4->tensorflow) (4.0.0)\n",
      "Requirement already satisfied: certifi>=2017.4.17 in /Users/Dayan/anaconda3/lib/python3.8/site-packages (from requests<3,>=2.21.0->tensorboard~=2.4->tensorflow) (2020.12.5)\n",
      "Requirement already satisfied: urllib3<1.27,>=1.21.1 in /Users/Dayan/anaconda3/lib/python3.8/site-packages (from requests<3,>=2.21.0->tensorboard~=2.4->tensorflow) (1.26.3)\n",
      "Requirement already satisfied: idna<3,>=2.5 in /Users/Dayan/anaconda3/lib/python3.8/site-packages (from requests<3,>=2.21.0->tensorboard~=2.4->tensorflow) (2.10)\n",
      "Collecting oauthlib>=3.0.0\n",
      "  Downloading oauthlib-3.1.0-py2.py3-none-any.whl (147 kB)\n",
      "\u001b[K     |████████████████████████████████| 147 kB 5.2 MB/s eta 0:00:01\n",
      "\u001b[?25hBuilding wheels for collected packages: termcolor\n",
      "  Building wheel for termcolor (setup.py) ... \u001b[?25ldone\n",
      "\u001b[?25h  Created wheel for termcolor: filename=termcolor-1.1.0-py3-none-any.whl size=4829 sha256=39bcb1df5312e7fe40998eb9bc0e752a802199fead2a19cbf998c8bfc0230aa2\n",
      "  Stored in directory: /Users/Dayan/Library/Caches/pip/wheels/a0/16/9c/5473df82468f958445479c59e784896fa24f4a5fc024b0f501\n",
      "Successfully built termcolor\n",
      "Installing collected packages: pyasn1, rsa, pyasn1-modules, oauthlib, cachetools, requests-oauthlib, google-auth, tensorboard-plugin-wit, protobuf, markdown, grpcio, google-auth-oauthlib, absl-py, termcolor, tensorflow-estimator, tensorboard, opt-einsum, keras-preprocessing, google-pasta, gast, flatbuffers, astunparse, tensorflow\n",
      "Successfully installed absl-py-0.11.0 astunparse-1.6.3 cachetools-4.2.1 flatbuffers-1.12 gast-0.3.3 google-auth-1.27.0 google-auth-oauthlib-0.4.2 google-pasta-0.2.0 grpcio-1.32.0 keras-preprocessing-1.1.2 markdown-3.3.4 oauthlib-3.1.0 opt-einsum-3.3.0 protobuf-3.15.3 pyasn1-0.4.8 pyasn1-modules-0.2.8 requests-oauthlib-1.3.0 rsa-4.7.2 tensorboard-2.4.1 tensorboard-plugin-wit-1.8.0 tensorflow-2.4.1 tensorflow-estimator-2.4.0 termcolor-1.1.0\n"
     ]
    }
   ],
   "source": [
    "!pip install tensorflow"
   ]
  },
  {
   "cell_type": "code",
   "execution_count": 2,
   "metadata": {},
   "outputs": [
    {
     "name": "stdout",
     "output_type": "stream",
     "text": [
      "Collecting keras\n",
      "  Downloading Keras-2.4.3-py2.py3-none-any.whl (36 kB)\n",
      "Requirement already satisfied: numpy>=1.9.1 in /Users/Dayan/anaconda3/lib/python3.8/site-packages (from keras) (1.19.2)\n",
      "Requirement already satisfied: scipy>=0.14 in /Users/Dayan/anaconda3/lib/python3.8/site-packages (from keras) (1.6.1)\n",
      "Requirement already satisfied: pyyaml in /Users/Dayan/anaconda3/lib/python3.8/site-packages (from keras) (5.4.1)\n",
      "Requirement already satisfied: h5py in /Users/Dayan/anaconda3/lib/python3.8/site-packages (from keras) (2.10.0)\n",
      "Requirement already satisfied: six in /Users/Dayan/anaconda3/lib/python3.8/site-packages (from h5py->keras) (1.15.0)\n",
      "Installing collected packages: keras\n",
      "Successfully installed keras-2.4.3\n"
     ]
    }
   ],
   "source": [
    "!pip install keras"
   ]
  },
  {
   "cell_type": "code",
   "execution_count": 4,
   "metadata": {},
   "outputs": [
    {
     "name": "stdout",
     "output_type": "stream",
     "text": [
      "Collecting mlxtend\n",
      "  Downloading mlxtend-0.18.0-py2.py3-none-any.whl (1.3 MB)\n",
      "\u001b[K     |████████████████████████████████| 1.3 MB 44 kB/s eta 0:00:011\n",
      "\u001b[?25hRequirement already satisfied: pandas>=0.24.2 in /Users/Dayan/anaconda3/lib/python3.8/site-packages (from mlxtend) (1.2.2)\n",
      "Requirement already satisfied: scipy>=1.2.1 in /Users/Dayan/anaconda3/lib/python3.8/site-packages (from mlxtend) (1.6.1)\n",
      "Requirement already satisfied: matplotlib>=3.0.0 in /Users/Dayan/anaconda3/lib/python3.8/site-packages (from mlxtend) (3.3.4)\n",
      "Requirement already satisfied: joblib>=0.13.2 in /Users/Dayan/anaconda3/lib/python3.8/site-packages (from mlxtend) (1.0.1)\n",
      "Requirement already satisfied: scikit-learn>=0.20.3 in /Users/Dayan/anaconda3/lib/python3.8/site-packages (from mlxtend) (0.23.2)\n",
      "Requirement already satisfied: setuptools in /Users/Dayan/anaconda3/lib/python3.8/site-packages (from mlxtend) (52.0.0.post20210125)\n",
      "Requirement already satisfied: numpy>=1.16.2 in /Users/Dayan/anaconda3/lib/python3.8/site-packages (from mlxtend) (1.19.2)\n",
      "Requirement already satisfied: kiwisolver>=1.0.1 in /Users/Dayan/anaconda3/lib/python3.8/site-packages (from matplotlib>=3.0.0->mlxtend) (1.3.1)\n",
      "Requirement already satisfied: pyparsing!=2.0.4,!=2.1.2,!=2.1.6,>=2.0.3 in /Users/Dayan/anaconda3/lib/python3.8/site-packages (from matplotlib>=3.0.0->mlxtend) (2.4.7)\n",
      "Requirement already satisfied: cycler>=0.10 in /Users/Dayan/anaconda3/lib/python3.8/site-packages (from matplotlib>=3.0.0->mlxtend) (0.10.0)\n",
      "Requirement already satisfied: python-dateutil>=2.1 in /Users/Dayan/anaconda3/lib/python3.8/site-packages (from matplotlib>=3.0.0->mlxtend) (2.8.1)\n",
      "Requirement already satisfied: pillow>=6.2.0 in /Users/Dayan/anaconda3/lib/python3.8/site-packages (from matplotlib>=3.0.0->mlxtend) (8.1.0)\n",
      "Requirement already satisfied: six in /Users/Dayan/anaconda3/lib/python3.8/site-packages (from cycler>=0.10->matplotlib>=3.0.0->mlxtend) (1.15.0)\n",
      "Requirement already satisfied: pytz>=2017.3 in /Users/Dayan/anaconda3/lib/python3.8/site-packages (from pandas>=0.24.2->mlxtend) (2021.1)\n",
      "Requirement already satisfied: threadpoolctl>=2.0.0 in /Users/Dayan/anaconda3/lib/python3.8/site-packages (from scikit-learn>=0.20.3->mlxtend) (2.1.0)\n",
      "Installing collected packages: mlxtend\n",
      "Successfully installed mlxtend-0.18.0\n"
     ]
    }
   ],
   "source": [
    "!pip install mlxtend"
   ]
  },
  {
   "cell_type": "code",
   "execution_count": 7,
   "metadata": {},
   "outputs": [
    {
     "name": "stdout",
     "output_type": "stream",
     "text": [
      "Collecting cmake\n",
      "  Downloading cmake-3.18.4.post1-py3-none-macosx_10_6_x86_64.whl (42.8 MB)\n",
      "\u001b[K     |████████████████████████████████| 42.8 MB 165 kB/s eta 0:00:01    |███▉                            | 5.2 MB 99 kB/s eta 0:06:19\n",
      "\u001b[?25hInstalling collected packages: cmake\n",
      "Successfully installed cmake-3.18.4.post1\n"
     ]
    }
   ],
   "source": [
    "!pip install cmake"
   ]
  },
  {
   "cell_type": "code",
   "execution_count": 1,
   "metadata": {},
   "outputs": [
    {
     "name": "stdout",
     "output_type": "stream",
     "text": [
      "Collecting dlib\n",
      "  Using cached dlib-19.21.1.tar.gz (3.6 MB)\n",
      "Building wheels for collected packages: dlib\n",
      "  Building wheel for dlib (setup.py) ... \u001b[?25ldone\n",
      "\u001b[?25h  Created wheel for dlib: filename=dlib-19.21.1-cp38-cp38-macosx_10_15_x86_64.whl size=3631245 sha256=ecee2334bd5a6e99f7022d8e10229b7e8b88fc3f97399ef06de5dc5519793f2c\n",
      "  Stored in directory: /Users/Dayan/Library/Caches/pip/wheels/f0/05/00/752b02e4ab2f6ce4633c099c0666af48ff3e4627150a500282\n",
      "Successfully built dlib\n",
      "Installing collected packages: dlib\n",
      "Successfully installed dlib-19.21.1\n"
     ]
    }
   ],
   "source": [
    "!pip install dlib"
   ]
  },
  {
   "cell_type": "code",
   "execution_count": 10,
   "metadata": {},
   "outputs": [
    {
     "name": "stdout",
     "output_type": "stream",
     "text": [
      "Collecting opencv-python\n",
      "  Downloading opencv_python-4.5.1.48-cp38-cp38-macosx_10_13_x86_64.whl (40.3 MB)\n",
      "\u001b[K     |████████████████████████████████| 40.3 MB 1.7 MB/s eta 0:00:01    |▍                               | 471 kB 431 kB/s eta 0:01:33\n",
      "\u001b[?25hRequirement already satisfied: numpy>=1.17.3 in /Users/Dayan/anaconda3/lib/python3.8/site-packages (from opencv-python) (1.19.2)\n",
      "Installing collected packages: opencv-python\n",
      "Successfully installed opencv-python-4.5.1.48\n"
     ]
    }
   ],
   "source": [
    "!pip install opencv-python"
   ]
  },
  {
   "cell_type": "code",
   "execution_count": 15,
   "metadata": {
    "colab": {},
    "colab_type": "code",
    "id": "L09UMHR3unrx"
   },
   "outputs": [],
   "source": [
    "import numpy as np # support for large, multi-dimensional arrays and matrices, \n",
    "                   # along with a large collection of high-level mathematical functions\n",
    "import math        # provides mathematical functions and constant such as pi\n",
    "# import os.path     \n",
    "import csv         # implements classes to read and write tabular data in CSV format\n",
    "\n",
    "# import imageio     # provides an easy interface to read and write a wide range of image data\n",
    "import matplotlib.pyplot as plt # used for creating static, animated, and interactive visualizations\n",
    "from mlxtend.image import extract_face_landmarks #Machine Learning Extensions library for day-to-day data science tasks"
   ]
  },
  {
   "cell_type": "code",
   "execution_count": 16,
   "metadata": {
    "colab": {},
    "colab_type": "code",
    "id": "aZ0uQXMcu81N"
   },
   "outputs": [],
   "source": [
    "def getFrame(sec):\n",
    "    start = 180000 # to start from 3 minutes 3 * 60 * 1000 milliseconds = 180000 milliseconds\n",
    "    vidcap.set(cv2.CAP_PROP_POS_MSEC, start + sec*1000) # CAP_PROP_POS_MSEC - Current position of the video file \n",
    "                                                        # in milliseconds.\n",
    "    hasFrames,image = vidcap.read()    # read() returns a bool (True/False). If frame is read correctly\n",
    "                                       # it also returns length * width * 3 size nparray for RGB value 0-255 of frame \n",
    "    return hasFrames, image"
   ]
  },
  {
   "cell_type": "markdown",
   "metadata": {},
   "source": [
    "## Facial Landmarks: <img src=\"https://www.pyimagesearch.com/wp-content/uploads/2017/04/facial_landmarks_68markup-1024x825.jpg\" style=\"width: 40vw; height: 40vh\">\n",
    "<img src=\"Pictures/EAR.png\" style=\"width:15vw\"/>\n",
    "$$ 1. EAR =  \\frac{|| p_2 - p_6 || + || p_3- p_5 ||}{2 || p_1 - p_4 ||} $$\n",
    "$$ 2. Euclidean Distance = d = \\sqrt{(x_2 - x_1)^2 + (y_2 - y_1)^2} $$ "
   ]
  },
  {
   "cell_type": "code",
   "execution_count": 17,
   "metadata": {
    "colab": {},
    "colab_type": "code",
    "id": "s-p-3knNupj6"
   },
   "outputs": [],
   "source": [
    "def eye_aspect_ratio(eye):\n",
    "    A = distance.euclidean(eye[1], eye[5])\n",
    "    B = distance.euclidean(eye[2], eye[4])\n",
    "    C = distance.euclidean(eye[0], eye[3])\n",
    "    ear = (A + B) / (2.0 * C)\n",
    "    return ear"
   ]
  },
  {
   "cell_type": "markdown",
   "metadata": {},
   "source": [
    "<img src=\"Pictures/MAR.png\" style=\"width:15vw\"/> \n",
    "$$ 1. MAR =  \\frac{|| p_2 - p_8 || + || p_4- p_6 ||}{2 || p_1 - p_5 ||} $$\n",
    "$$ 2. Euclidean Distance = d = \\sqrt{(x_2 - x_1)^2 + (y_2 - y_1)^2} $$"
   ]
  },
  {
   "cell_type": "code",
   "execution_count": 18,
   "metadata": {
    "colab": {},
    "colab_type": "code",
    "id": "Gacb2hPmubbr"
   },
   "outputs": [],
   "source": [
    "def mouth_aspect_ratio(mouth):\n",
    "    A = distance.euclidean(mouth[2], mouth[10])\n",
    "    B = distance.euclidean(mouth[4], mouth[8])\n",
    "    C = distance.euclidean(mouth[0], mouth[6])\n",
    "    mar = (A + B) / (2.0 * C)\n",
    "    return mar"
   ]
  },
  {
   "cell_type": "markdown",
   "metadata": {},
   "source": [
    "$$ 1. PUC =  \\frac{(4 * \\pi * Area)}{Perimeter^2} $$\n",
    "$$ 2. Area =  \\pi * \\frac{Distance(p_2, p_5)}{2} $$"
   ]
  },
  {
   "cell_type": "code",
   "execution_count": 19,
   "metadata": {
    "colab": {},
    "colab_type": "code",
    "id": "dYhTecWBuygh"
   },
   "outputs": [],
   "source": [
    "def pupil_circularity(eye):\n",
    "    A = distance.euclidean(eye[1], eye[4])\n",
    "    radius  = A/2.0\n",
    "    Area = math.pi * (radius ** 2)\n",
    "    p = 0\n",
    "    p += distance.euclidean(eye[0], eye[1])\n",
    "    p += distance.euclidean(eye[1], eye[2])\n",
    "    p += distance.euclidean(eye[2], eye[3])\n",
    "    p += distance.euclidean(eye[3], eye[4])\n",
    "    p += distance.euclidean(eye[4], eye[5])\n",
    "    p += distance.euclidean(eye[5], eye[0])\n",
    "    return 4 * math.pi * Area /(p**2)"
   ]
  },
  {
   "cell_type": "markdown",
   "metadata": {},
   "source": [
    "$$ MOE = \\frac{MAR}{EAR} $$"
   ]
  },
  {
   "cell_type": "code",
   "execution_count": 20,
   "metadata": {
    "colab": {},
    "colab_type": "code",
    "id": "0FpZ1jDou4dx"
   },
   "outputs": [],
   "source": [
    "def mouth_over_eye(eye, mouth):\n",
    "    ear = eye_aspect_ratio(eye)\n",
    "    mar = mouth_aspect_ratio(mouth)\n",
    "    moe = mar/ear\n",
    "    return moe"
   ]
  },
  {
   "cell_type": "markdown",
   "metadata": {},
   "source": [
    "## [UTA Real-Life Drowsiness Dataset](https://sites.google.com/view/utarldd/home)"
   ]
  },
  {
   "cell_type": "code",
   "execution_count": 22,
   "metadata": {
    "colab": {},
    "colab_type": "code",
    "id": "UKWDJ5-I0Pt7"
   },
   "outputs": [
    {
     "name": "stdout",
     "output_type": "stream",
     "text": [
      "\n",
      "Person:  1\n",
      "Total 240 Frame Counts for the video number:  0\n",
      "1 2 3 4 5 6 7 8 9 10 11 12 13 14 15 16 17 18 19 20 21 22 23 24 25 26 27 28 29 30 31 32 33 34 35 36 37 38 39 40 41 42 43 44 45 46 47 48 49 50 51 52 53 54 55 56 57 58 59 60 61 62 63 64 65 66 67 68 69 70 71 72 73 74 75 76 77 78 79 80 81 82 83 84 85 86 87 88 89 90 91 92 93 94 95 96 97 98 99 100 101 102 103 104 105 106 107 108 109 110 111 112 113 114 115 116 117 118 119 120 121 122 123 124 125 126 127 128 129 130 131 132 133 134 135 136 137 138 139 140 141 142 143 144 145 146 147 148 149 150 151 152 153 154 155 156 157 158 159 160 161 162 163 164 165 166 167 168 169 170 171 172 173 174 175 176 177 178 179 180 181 182 183 184 185 186 187 188 189 190 191 192 193 194 195 196 197 198 199 200 201 202 203 204 205 206 207 208 209 210 211 212 213 214 215 216 217 218 219 220 221 222 223 224 225 226 227 228 229 230 231 232 233 234 235 236 237 238 239 240 \n",
      "Person:  1\n",
      "Total 240 Frame Counts for the video number:  10\n",
      "1 2 3 4 5 6 7 8 9 10 11 12 13 14 15 16 17 18 19 20 "
     ]
    },
    {
     "name": "stderr",
     "output_type": "stream",
     "text": [
      "/Users/Dayan/anaconda3/lib/python3.8/site-packages/mlxtend/image/extract_face_landmarks.py:66: UserWarning: No face detected.\n",
      "  warnings.warn('No face detected.')\n"
     ]
    },
    {
     "name": "stdout",
     "output_type": "stream",
     "text": [
      "not detected 21 22 23 24 25 26 27 28 29 not detected 30 31 32 33 34 35 36 37 38 39 40 41 42 43 44 45 46 47 48 49 50 51 52 53 54 55 56 57 58 59 60 61 62 63 64 65 66 67 68 69 70 71 72 73 74 75 76 77 78 79 80 81 82 83 84 85 86 87 88 89 90 91 92 93 94 95 96 97 98 99 100 101 102 103 104 105 106 107 108 109 110 111 112 113 114 115 116 117 118 119 120 121 122 123 124 125 126 127 128 129 130 131 132 133 134 135 136 137 138 139 140 141 142 143 144 145 146 147 148 149 150 151 152 153 154 155 156 157 158 159 160 161 162 163 164 165 166 167 168 169 170 171 172 173 174 175 176 177 178 179 180 181 182 183 184 185 186 187 188 189 190 191 192 193 194 195 196 197 198 199 200 201 202 203 204 205 206 207 208 209 210 211 212 213 214 215 216 217 218 219 220 221 222 223 224 225 226 227 228 229 230 231 232 233 234 235 236 237 238 239 240 "
     ]
    }
   ],
   "source": [
    "# main program\n",
    "from scipy.spatial import distance # Computing distances over a large collection of vectors is inefficient for these functions.\n",
    "import cv2      # # OpenCV (Computer Vision) came with both cv and cv2. Now cv is a subclass inside cv2. cv2 is the latest \n",
    "import numpy as np\n",
    "import pandas as pd\n",
    "\n",
    "\n",
    "for person in range(1, 2):\n",
    "    \n",
    "    features = []\n",
    "    label = 0\n",
    "    for video_number in [0, 10]:\n",
    "        print(\"\\nPerson: \", person)\n",
    "        print(\"Total 240 Frame Counts for the video number: \", video_number)\n",
    "        vidcap = cv2.VideoCapture('/Users/Dayan/Drowsiness_Detection/Videos/'+str(person)+'/'+str(video_number)+'.mp4')\n",
    "        if vidcap.isOpened() == False:\n",
    "            vidcap = cv2.VideoCapture('/Users/Dayan/Drowsiness_Detection/Videos/'+str(person)+'/'+str(video_number)+'.mov')\n",
    "        \n",
    "        if video_number == 0:\n",
    "            label = 0\n",
    "        else:\n",
    "            label = 1\n",
    "            \n",
    "        sec = 0\n",
    "        count = 0\n",
    "        success, image = getFrame(sec)\n",
    "        \n",
    "        while success and count < 240: \n",
    "            success, image = getFrame(sec)\n",
    "            landmarks = extract_face_landmarks(image) #A numpy array [68, 2], where each row contains a landmark/point\n",
    "                                                      #x-y coordinates. Return None if no face is detected by Dlib.\n",
    "            if landmarks is not None:\n",
    "                count += 1\n",
    "                eye = landmarks[36:48]\n",
    "                mouth = landmarks[48:68]\n",
    "                ear = eye_aspect_ratio(eye)\n",
    "                mar = mouth_aspect_ratio(mouth)\n",
    "                cir = pupil_circularity(eye)\n",
    "                mouth_eye = mouth_over_eye(eye, mouth)\n",
    "                features.append([person, ear, mar, cir, mouth_eye, label])\n",
    "                print(count, end=\" \")\n",
    "            else:  \n",
    "                print(\"not detected\", end=\" \")\n",
    "            \n",
    "            sec += 1\n",
    "            \n",
    "    df = pd.DataFrame(features)\n",
    "    df.to_csv('Dataset/' + str(person) +'.csv', header= [\"Person\", \"EAR\", \"MAR\", \"PUC\", \"MOE\", \"Label\"], index=False)\n"
   ]
  },
  {
   "cell_type": "code",
   "execution_count": null,
   "metadata": {},
   "outputs": [],
   "source": []
  }
 ],
 "metadata": {
  "accelerator": "GPU",
  "colab": {
   "collapsed_sections": [],
   "name": "final_feature_extraction.ipynb",
   "provenance": []
  },
  "kernelspec": {
   "display_name": "Python 3 (ipykernel)",
   "language": "python",
   "name": "python3"
  },
  "language_info": {
   "codemirror_mode": {
    "name": "ipython",
    "version": 3
   },
   "file_extension": ".py",
   "mimetype": "text/x-python",
   "name": "python",
   "nbconvert_exporter": "python",
   "pygments_lexer": "ipython3",
   "version": "3.11.4"
  }
 },
 "nbformat": 4,
 "nbformat_minor": 1
}
