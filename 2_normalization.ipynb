{
 "cells": [
  {
   "cell_type": "code",
   "execution_count": 52,
   "metadata": {
    "colab": {},
    "colab_type": "code",
    "id": "e6OdyjbZUDEO",
    "scrolled": true
   },
   "outputs": [],
   "source": [
    "#Reading in the files and merging the data\n",
    "import pandas as pd\n",
    "whole_dataset = []\n",
    "for person in range(1, 26):\n",
    "    df = pd.read_csv('Dataset/' + str(person) + '.csv')\n",
    "    whole_dataset.append(df)\n",
    "\n",
    "whole_dataset = pd.concat(whole_dataset)\n",
    "\n",
    "#Saving the merged data into a CSV\n",
    "whole_dataset.to_csv('Dataset/total_persons_initial_info.csv', index = False)"
   ]
  },
  {
   "cell_type": "code",
   "execution_count": 53,
   "metadata": {
    "colab": {},
    "colab_type": "code",
    "id": "Lb7gkzxdUDEU"
   },
   "outputs": [
    {
     "name": "stdout",
     "output_type": "stream",
     "text": [
      "       Person       EAR       MAR       PUC       MOE  Label\n",
      "0           1  0.292079  0.391358  0.443185  1.339904      0\n",
      "1           1  0.350000  0.417129  0.499206  1.191797      0\n",
      "2           1  0.341971  0.432854  0.414329  1.265763      0\n",
      "3           1  0.309173  0.446435  0.466982  1.443964      0\n",
      "4           1  0.250000  0.446435  0.415441  1.785741      0\n",
      "...       ...       ...       ...       ...       ...    ...\n",
      "11755      25  0.258065  0.354103  0.422744  1.372147      0\n",
      "11756      25  0.260234  0.608817  0.296206  2.339501      0\n",
      "11757      25  0.257458  0.356739  0.368379  1.385621      0\n",
      "11758      25  0.207973  0.349929  0.354302  1.682571      0\n",
      "11759      25  0.251296  0.367350  0.412851  1.461825      0\n",
      "\n",
      "[6000 rows x 6 columns]\n"
     ]
    }
   ],
   "source": [
    "#Reading the CSV back into a dataframe\n",
    "df = pd.read_csv('Dataset/total_persons_initial_info.csv')\n",
    "\n",
    "#Separating the rows which are \"Alert\" only\n",
    "df_alert = df[df[\"Label\"] == 0] \n",
    "print(df_alert)"
   ]
  },
  {
   "cell_type": "code",
   "execution_count": 54,
   "metadata": {
    "colab": {},
    "colab_type": "code",
    "id": "qwuFl9EZUDEX"
   },
   "outputs": [
    {
     "name": "stdout",
     "output_type": "stream",
     "text": [
      "       Person       EAR       MAR       PUC       MOE  Label\n",
      "0           1  0.292079  0.391358  0.443185  1.339904      0\n",
      "480         2  0.237788  0.429073  0.396446  1.804433      0\n",
      "960         3  0.264679  0.392612  0.456072  1.483349      0\n",
      "1440        4  0.293183  0.392336  0.459712  1.338197      0\n",
      "1920        5  0.273502  0.186906  0.459583  0.683380      0\n",
      "2400        6  0.278163  0.221327  0.454315  0.795672      0\n",
      "2880        7  0.337310  0.385400  0.455003  1.142567      0\n",
      "3360        8  0.328398  0.302990  0.484770  0.922629      0\n",
      "3840        9  0.292199  0.386776  0.433830  1.323673      0\n",
      "4320       10  0.261778  0.325954  0.397949  1.245155      0\n",
      "4800       11  0.349191  0.358900  0.478693  1.027803      0\n",
      "5280       12  0.273873  0.335153  0.435574  1.223753      0\n",
      "5760       13  0.318036  0.335460  0.437016  1.054788      0\n",
      "6240       14  0.279189  0.408668  0.419553  1.463766      0\n",
      "6720       15  0.250907  0.341404  0.391955  1.360681      0\n",
      "7200       16  0.253696  0.457650  0.372054  1.803927      0\n",
      "7680       17  0.240809  0.377185  0.389692  1.566322      0\n",
      "8160       18  0.250545  0.426541  0.384614  1.702454      0\n",
      "8640       19  0.334449  0.279963  0.513463  0.837087      0\n",
      "9120       20  0.330337  0.441235  0.471099  1.335712      0\n",
      "9600       21  0.343554  0.445383  0.546947  1.296397      0\n",
      "10080      22  0.215557  0.301258  0.344786  1.397578      0\n",
      "10560      23  0.159193  0.247284  0.390018  1.553358      0\n",
      "11040      24  0.392043  0.386494  0.557577  0.985847      0\n",
      "11520      25  0.257930  0.367220  0.417689  1.423716      0\n",
      "       Person       EAR       MAR       PUC       MOE  Label\n",
      "1           1  0.350000  0.417129  0.499206  1.191797      0\n",
      "481         2  0.298348  0.337879  0.464853  1.132502      0\n",
      "961         3  0.272232  0.385603  0.454066  1.416448      0\n",
      "1441        4  0.285947  0.400221  0.426123  1.399632      0\n",
      "1921        5  0.281754  0.171424  0.445599  0.608417      0\n",
      "2401        6  0.289676  0.237283  0.412038  0.819131      0\n",
      "2881        7  0.341356  0.414626  0.466900  1.214646      0\n",
      "3361        8  0.325182  0.317233  0.496532  0.975556      0\n",
      "3841        9  0.280213  0.425369  0.428229  1.518021      0\n",
      "4321       10  0.244220  0.346688  0.395930  1.419570      0\n",
      "4801       11  0.345614  0.376836  0.498191  1.090337      0\n",
      "5281       12  0.278038  0.336819  0.418758  1.211413      0\n",
      "5761       13  0.294118  0.371591  0.467201  1.263410      0\n",
      "6241       14  0.272252  0.397988  0.401441  1.461838      0\n",
      "6721       15  0.231489  0.338198  0.392094  1.460968      0\n",
      "7201       16  0.283551  0.461993  0.431158  1.629316      0\n",
      "7681       17  0.315263  0.388898  0.488678  1.233567      0\n",
      "8161       18  0.256074  0.445022  0.404094  1.737868      0\n",
      "8641       19  0.318862  0.310200  0.471447  0.972835      0\n",
      "9121       20  0.341839  0.431203  0.469981  1.261420      0\n",
      "9601       21  0.356864  0.449555  0.496309  1.259736      0\n",
      "10081      22  0.235095  0.307464  0.352081  1.307831      0\n",
      "10561      23  0.205646  0.232037  0.392784  1.128336      0\n",
      "11041      24  0.402480  0.408031  0.567687  1.013791      0\n",
      "11521      25  0.274627  0.409280  0.366795  1.490314      0\n",
      "       Person       EAR       MAR       PUC       MOE  Label\n",
      "2           1  0.341971  0.432854  0.414329  1.265763      0\n",
      "482         2  0.262505  0.387517  0.405292  1.476227      0\n",
      "962         3  0.272232  0.395019  0.453559  1.451036      0\n",
      "1442        4  0.293313  0.384649  0.461588  1.311393      0\n",
      "1922        5  0.278257  0.189741  0.445300  0.681893      0\n",
      "2402        6  0.272426  0.259004  0.413943  0.950733      0\n",
      "2882        7  0.357240  0.378365  0.485638  1.059133      0\n",
      "3362        8  0.322992  0.320218  0.497671  0.991413      0\n",
      "3842        9  0.280919  0.442871  0.420920  1.576511      0\n",
      "4322       10  0.268766  0.348722  0.417850  1.297493      0\n",
      "4802       11  0.328825  0.362937  0.463200  1.103739      0\n",
      "5282       12  0.274236  0.346221  0.436349  1.262494      0\n",
      "5762       13  0.333180  0.272607  0.467301  0.818196      0\n",
      "6242       14  0.267144  0.408532  0.405829  1.529259      0\n",
      "6722       15  0.284642  0.343468  0.424024  1.206668      0\n",
      "7202       16  0.261641  0.454498  0.407705  1.737107      0\n",
      "7682       17  0.316129  0.377236  0.492745  1.193298      0\n",
      "8162       18  0.308657  0.429163  0.470795  1.390420      0\n",
      "8642       19  0.323832  0.307076  0.472216  0.948257      0\n",
      "9122       20  0.344160  0.418028  0.506476  1.214633      0\n",
      "9602       21  0.220909  0.405210  0.372308  1.834285      0\n",
      "10082      22  0.110805  0.305672  0.274660  2.758659      0\n",
      "10562      23  0.211507  0.255777  0.367633  1.209308      0\n",
      "11042      24  0.377335  0.397222  0.538695  1.052702      0\n",
      "11522      25  0.250898  0.361492  0.402140  1.440790      0\n"
     ]
    }
   ],
   "source": [
    "#Creating separate dataframes for each person's first, second and third \"Alert\" frame\n",
    "df_alert_1 = df_alert.iloc[0::240, :]\n",
    "df_alert_2 = df_alert.iloc[1::240, :]\n",
    "df_alert_3 = df_alert.iloc[2::240, :]\n",
    "print(df_alert_1)\n",
    "print(df_alert_2)\n",
    "print(df_alert_3)"
   ]
  },
  {
   "cell_type": "code",
   "execution_count": 55,
   "metadata": {
    "colab": {},
    "colab_type": "code",
    "id": "Ikv_4bF-UDEa"
   },
   "outputs": [
    {
     "name": "stdout",
     "output_type": "stream",
     "text": [
      "       Person       EAR       MAR       PUC       MOE  Label\n",
      "0           1  0.292079  0.391358  0.443185  1.339904      0\n",
      "1           1  0.350000  0.417129  0.499206  1.191797      0\n",
      "2           1  0.341971  0.432854  0.414329  1.265763      0\n",
      "480         2  0.237788  0.429073  0.396446  1.804433      0\n",
      "481         2  0.298348  0.337879  0.464853  1.132502      0\n",
      "...       ...       ...       ...       ...       ...    ...\n",
      "11041      24  0.402480  0.408031  0.567687  1.013791      0\n",
      "11042      24  0.377335  0.397222  0.538695  1.052702      0\n",
      "11520      25  0.257930  0.367220  0.417689  1.423716      0\n",
      "11521      25  0.274627  0.409280  0.366795  1.490314      0\n",
      "11522      25  0.250898  0.361492  0.402140  1.440790      0\n",
      "\n",
      "[75 rows x 6 columns]\n"
     ]
    }
   ],
   "source": [
    "#Merging them into one dataframe\n",
    "alert_first3 = [df_alert_1,df_alert_2,df_alert_3]\n",
    "df_alert_first3 = pd.concat(alert_first3)\n",
    "df_alert_first3 = df_alert_first3.sort_index()\n",
    "print(df_alert_first3)"
   ]
  },
  {
   "attachments": {
    "image-2.png": {
     "image/png": "[encoded data removed]"
    },
    "image.png": {
     "image/png": "[encoded data removed]"
    }
   },
   "cell_type": "markdown",
   "metadata": {},
   "source": [
    "# Mean = ![image-2.png](attachment:image-2.png)\n",
    "# Standard Deviation = ![image.png](attachment:image.png)"
   ]
  },
  {
   "cell_type": "code",
   "execution_count": 56,
   "metadata": {
    "colab": {},
    "colab_type": "code",
    "id": "0NPrHH8wUDEb"
   },
   "outputs": [
    {
     "name": "stdout",
     "output_type": "stream",
     "text": [
      "             EAR       MAR       PUC       MOE\n",
      "Person                                        \n",
      "1       0.328017  0.413781  0.452240  1.265822\n",
      "2       0.266214  0.384823  0.422197  1.471054\n",
      "3       0.269715  0.391078  0.454566  1.450278\n",
      "4       0.290814  0.392402  0.449141  1.349741\n",
      "5       0.277838  0.182690  0.450161  0.657897\n",
      "6       0.280088  0.239204  0.426765  0.855179\n",
      "7       0.345302  0.392797  0.469180  1.138782\n",
      "8       0.325524  0.313480  0.492991  0.963200\n",
      "9       0.284444  0.418339  0.427660  1.472735\n",
      "10      0.258255  0.340455  0.403910  1.320739\n",
      "11      0.341210  0.366224  0.480028  1.073959\n",
      "12      0.275382  0.339398  0.430227  1.232553\n",
      "13      0.315111  0.326553  0.457173  1.045465\n",
      "14      0.272862  0.405063  0.408941  1.484954\n",
      "15      0.255679  0.341023  0.402691  1.342772\n",
      "16      0.266296  0.458047  0.403639  1.723450\n",
      "17      0.290734  0.381106  0.457038  1.331062\n",
      "18      0.271759  0.433576  0.419835  1.610247\n",
      "19      0.325715  0.299080  0.485709  0.919393\n",
      "20      0.338779  0.430156  0.482519  1.270588\n",
      "21      0.307109  0.433382  0.471855  1.463473\n",
      "22      0.187152  0.304798  0.323842  1.821356\n",
      "23      0.192115  0.245033  0.383478  1.297000\n",
      "24      0.390619  0.397249  0.554653  1.017447\n",
      "25      0.261152  0.379331  0.395541  1.451607\n",
      "             EAR       MAR       PUC       MOE\n",
      "Person                                        \n",
      "1       0.031381  0.020950  0.043157  0.074053\n",
      "2       0.030450  0.045656  0.037205  0.335995\n",
      "3       0.004361  0.004892  0.001329  0.033457\n",
      "4       0.004215  0.007786  0.019956  0.045238\n",
      "5       0.004142  0.009860  0.008161  0.042857\n",
      "6       0.008785  0.018912  0.023878  0.083579\n",
      "7       0.010535  0.019229  0.015444  0.077825\n",
      "8       0.002719  0.009207  0.007142  0.036018\n",
      "9       0.006726  0.028701  0.006474  0.132362\n",
      "10      0.012646  0.012599  0.012115  0.089501\n",
      "11      0.010874  0.009409  0.017534  0.040531\n",
      "12      0.002307  0.005967  0.009940  0.026653\n",
      "13      0.019695  0.050090  0.017456  0.222754\n",
      "14      0.006046  0.006127  0.009449  0.038381\n",
      "15      0.026896  0.002656  0.018475  0.128093\n",
      "16      0.015462  0.003764  0.029761  0.088103\n",
      "17      0.043238  0.006748  0.058359  0.204733\n",
      "18      0.032074  0.009999  0.045195  0.191198\n",
      "19      0.007962  0.016629  0.024039  0.072331\n",
      "20      0.007402  0.011639  0.020755  0.061058\n",
      "21      0.074948  0.024487  0.089851  0.321655\n",
      "22      0.066837  0.003194  0.042749  0.812968\n",
      "23      0.028661  0.012029  0.013792  0.225673\n",
      "24      0.012633  0.010768  0.014716  0.033577\n",
      "25      0.012188  0.026095  0.026081  0.034591\n"
     ]
    }
   ],
   "source": [
    "#Based on the first 3 \"Alert\" frames, calculating person-wise mean and std for each feature\n",
    "df_means = df_alert_first3.groupby(\"Person\")[[\"EAR\",\"MAR\",\"PUC\",\"MOE\"]].mean()\n",
    "df_std = df_alert_first3.groupby(\"Person\")[[\"EAR\",\"MAR\",\"PUC\",\"MOE\"]].std() \n",
    "print(df_means)\n",
    "print(df_std)"
   ]
  },
  {
   "cell_type": "code",
   "execution_count": 57,
   "metadata": {
    "colab": {},
    "colab_type": "code",
    "id": "SLtDq7E9UDEe"
   },
   "outputs": [],
   "source": [
    "#Functions for mean and std for each feature\n",
    "def mean_EAR(person):\n",
    "    return df_means.loc[person][\"EAR\"]\n",
    "\n",
    "def mean_MAR(person):\n",
    "    return df_means.loc[person][\"MAR\"]\n",
    "\n",
    "def mean_PUC(person):\n",
    "    return df_means.loc[person][\"PUC\"]\n",
    "\n",
    "def mean_MOE(person):\n",
    "    return df_means.loc[person][\"MOE\"]\n",
    "\n",
    "\n",
    "def std_EAR(person):\n",
    "    return df_std.loc[person][\"EAR\"]\n",
    "\n",
    "def std_MAR(person):\n",
    "    return df_std.loc[person][\"MAR\"]\n",
    "\n",
    "def std_PUC(person):\n",
    "    return df_std.loc[person][\"PUC\"]\n",
    "\n",
    "def std_MOE(person):\n",
    "    return df_std.loc[person][\"MOE\"]"
   ]
  },
  {
   "cell_type": "code",
   "execution_count": 58,
   "metadata": {
    "colab": {},
    "colab_type": "code",
    "id": "LWHFa1QaUDEg"
   },
   "outputs": [],
   "source": [
    "#Adding person-wise mean and std for each feature to each row in the original dataframe\n",
    "df[\"EAR_mean\"] = df[\"Person\"].apply(mean_EAR)\n",
    "df[\"MAR_mean\"] = df[\"Person\"].apply(mean_MAR)\n",
    "df[\"PUC_mean\"] = df[\"Person\"].apply(mean_PUC)\n",
    "df[\"MOE_mean\"] = df[\"Person\"].apply(mean_MOE)\n",
    "\n",
    "df[\"EAR_std\"] = df[\"Person\"].apply(std_EAR)\n",
    "df[\"MAR_std\"] = df[\"Person\"].apply(std_MAR)\n",
    "df[\"PUC_std\"] = df[\"Person\"].apply(std_PUC)\n",
    "df[\"MOE_std\"] = df[\"Person\"].apply(std_MOE)"
   ]
  },
  {
   "cell_type": "code",
   "execution_count": 59,
   "metadata": {
    "colab": {},
    "colab_type": "code",
    "id": "tF3tz7GJUDEi"
   },
   "outputs": [],
   "source": [
    "#Calculating normalised features for each row in the original dataframe\n",
    "df[\"EAR_N\"] = (df[\"EAR\"]-df[\"EAR_mean\"])/ df[\"EAR_std\"]\n",
    "df[\"MAR_N\"] = (df[\"MAR\"]-df[\"MAR_mean\"])/ df[\"MAR_std\"]\n",
    "df[\"PUC_N\"] = (df[\"PUC\"]-df[\"PUC_mean\"])/ df[\"PUC_std\"]\n",
    "df[\"MOE_N\"] = (df[\"MOE\"]-df[\"MOE_mean\"])/ df[\"MOE_std\"]\n"
   ]
  },
  {
   "cell_type": "code",
   "execution_count": 60,
   "metadata": {},
   "outputs": [
    {
     "name": "stdout",
     "output_type": "stream",
     "text": [
      "['Person', 'EAR', 'MAR', 'PUC', 'MOE', 'EAR_mean', 'MAR_mean', 'PUC_mean', 'MOE_mean', 'EAR_std', 'MAR_std', 'PUC_std', 'MOE_std', 'EAR_N', 'MAR_N', 'PUC_N', 'MOE_N', 'Label']\n"
     ]
    }
   ],
   "source": [
    "# Reordering the columns\n",
    "cols = df.columns.tolist()\n",
    "cols = cols[:5] + cols[6:] + cols[5:6]\n",
    "print(cols)\n",
    "df = df[cols]"
   ]
  },
  {
   "cell_type": "code",
   "execution_count": 61,
   "metadata": {
    "colab": {},
    "colab_type": "code",
    "id": "Fp9idPATUDEl"
   },
   "outputs": [],
   "source": [
    "#Saving the file to a CSV with all the information\n",
    "df.to_csv('Dataset/total_persons_all_info.csv',index=False)"
   ]
  },
  {
   "cell_type": "code",
   "execution_count": 62,
   "metadata": {
    "colab": {},
    "colab_type": "code",
    "id": "KmZHY_EJUDEn"
   },
   "outputs": [],
   "source": [
    "#Saving the file to a CSV with only normalized the information\n",
    "df_main = df.drop([\"EAR_mean\",\"MAR_mean\",\"PUC_mean\",\"MOE_mean\",\"EAR_std\",\"MAR_std\",\"PUC_std\",\"MOE_std\"],axis=1)\n",
    "df_main.to_csv('Dataset/total_persons_main_info.csv',index=False)"
   ]
  },
  {
   "cell_type": "code",
   "execution_count": null,
   "metadata": {},
   "outputs": [],
   "source": []
  }
 ],
 "metadata": {
  "colab": {
   "name": "Normalization.ipynb",
   "provenance": []
  },
  "kernelspec": {
   "display_name": "Python 3 (ipykernel)",
   "language": "python",
   "name": "python3"
  },
  "language_info": {
   "codemirror_mode": {
    "name": "ipython",
    "version": 3
   },
   "file_extension": ".py",
   "mimetype": "text/x-python",
   "name": "python",
   "nbconvert_exporter": "python",
   "pygments_lexer": "ipython3",
   "version": "3.11.4"
  }
 },
 "nbformat": 4,
 "nbformat_minor": 1
}
